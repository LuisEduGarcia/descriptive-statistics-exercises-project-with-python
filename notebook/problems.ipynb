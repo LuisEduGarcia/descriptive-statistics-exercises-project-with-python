{
    "cells": [
        {
            "cell_type": "markdown",
            "id": "ac622319",
            "metadata": {},
            "source": [
                "# Descriptive statistics problems"
            ]
        },
        {
            "cell_type": "markdown",
            "id": "5e0ab0d5",
            "metadata": {},
            "source": [
                "### Exercise 1\n",
                "\n",
                "We will use NumPy to obtain information to describe statistically.\n",
                "\n",
                "- Generate an array of 100 elements following a normal distribution.\n",
                "- Generate an array of 100 elements following a chi-square distribution with 3 degrees of freedom.\n",
                "- Calculate the main metrics and statistical measures that best describe the two vectors."
            ]
        },
        {
            "cell_type": "code",
            "execution_count": 60,
            "id": "34720ab6",
            "metadata": {},
            "outputs": [
                {
                    "name": "stdout",
                    "output_type": "stream",
                    "text": [
                        "normal [-0.37587197  0.15096108  1.71822972 -0.11104052  0.39010162 -0.77174783\n",
                        "  0.22539308  0.63739514 -1.38376726  0.81701821 -0.03604367  0.25588147\n",
                        " -0.46551664 -1.35558191 -0.16775185 -1.03994753 -0.75208233 -0.69487963\n",
                        " -0.71871805 -1.01785432  0.67695641  0.68946329 -1.63284282  0.08187526\n",
                        "  0.35076951  0.97998989  1.54091912  0.37223602  0.76609675  0.95342095\n",
                        "  1.20425018  0.68574019 -1.67410596  0.11743612 -0.98255797  0.73522601\n",
                        "  0.09841784  0.25406865  0.02379223 -0.85152433 -1.75170122 -0.509097\n",
                        " -1.46211461 -3.01097376  1.16087509  2.92923272 -1.71840591 -0.13305961\n",
                        " -0.14381026 -2.56676815  0.29620564  0.1875279   0.70493969 -2.14514717\n",
                        "  0.9432719  -0.86345568 -1.32903186  0.28220748  0.34072458  1.18396243\n",
                        "  0.98261239  0.98477096  0.58835396 -1.0379758  -1.50408739 -0.66829831\n",
                        " -2.69369539  0.06386422 -1.20998994  0.28329118 -1.65676273  2.09980858\n",
                        "  0.95738917 -2.00109567 -1.70143946 -0.31645289  0.93523193  1.99981752\n",
                        "  0.58978278 -0.86561735  0.71713677  1.30290003  2.15594091 -1.15384213\n",
                        "  0.86992559  0.03215487 -0.89437112 -1.81417428  0.50836423  2.01300678\n",
                        "  1.14054846  0.78385055 -0.16580975  0.52307176 -0.87358268  0.80270965\n",
                        " -0.8865028   1.84244229 -0.91954323  0.92940302]\n",
                        "chi square [2.91403905 5.85732316 3.70324655 7.72412593 2.96826839 1.04746379\n",
                        " 0.28609708 1.35998213 2.19929703 0.29818478 8.95083217 4.56691203\n",
                        " 3.68596253 3.37341007 1.53793035 5.31617897 3.17026746 1.37605337\n",
                        " 1.77697093 0.49759587 2.8876123  3.14486002 1.2931474  1.0663651\n",
                        " 6.7878994  5.14310844 1.03096719 1.72756243 1.89229166 6.1584051\n",
                        " 1.20554591 0.5884227  2.26989174 3.49387842 3.90292998 1.91794567\n",
                        " 6.51472187 0.8724075  0.3669548  1.24716223 0.96829208 4.1828985\n",
                        " 0.84122512 2.35025616 1.72455717 0.65771738 6.89431241 2.03916384\n",
                        " 1.27038732 6.29466135 1.44810457 1.7861178  2.22476861 4.83451191\n",
                        " 1.74231061 1.96056537 5.47188913 1.37778184 1.46937154 2.37264423\n",
                        " 0.41992196 9.38107282 0.51596595 1.47557537 3.82974035 3.59415419\n",
                        " 6.23434512 3.25478446 1.21322403 5.60588735 1.63191103 3.36916773\n",
                        " 3.45780843 5.36267555 4.31570053 4.37950109 6.84597756 2.6389796\n",
                        " 6.92928972 1.82246654 2.46119526 5.50954941 3.02481476 3.75179866\n",
                        " 4.07989412 2.57901275 4.56738229 6.12206894 3.32999126 2.5139716\n",
                        " 1.47534683 1.46572848 2.68814109 5.74223248 5.20716469 3.59084614\n",
                        " 3.98435348 3.89109927 4.38169321 2.27993968]\n"
                    ]
                }
            ],
            "source": [
                "# TODO\n",
                "import numpy as np\n",
                "import statistics as stats\n",
                "\n",
                "# Array con distribución normal\n",
                "array_normal = np.random.normal(0, 1, 100)\n",
                "# Array con distribución chi-cuadrado con 3 grados de libertaD\n",
                "array_chi_square = np.random.chisquare(3, 100)\n",
                "\n",
                "print ('normal',array_normal)\n",
                "print('chi square',array_chi_square)\n",
                "\n"
            ]
        },
        {
            "cell_type": "code",
            "execution_count": 46,
            "id": "4d942a8b",
            "metadata": {},
            "outputs": [
                {
                    "name": "stdout",
                    "output_type": "stream",
                    "text": [
                        "Media (Normal):  -0.09922400441895038\n",
                        "Media (Chi-Square): 2.960406150123418\n"
                    ]
                }
            ],
            "source": [
                "#media\n",
                "\n",
                "print(f\"Media (Normal): \",np.mean(array_normal))\n",
                "\n",
                "print(f\"Media (Chi-Square):\",np.mean(array_chi_square)) "
            ]
        },
        {
            "cell_type": "code",
            "execution_count": 47,
            "id": "afc848ca",
            "metadata": {},
            "outputs": [
                {
                    "name": "stdout",
                    "output_type": "stream",
                    "text": [
                        "Mediana (Normal):  -0.14109915296977343\n",
                        "Mediana (Chi-Square):  2.4951468989102326\n"
                    ]
                }
            ],
            "source": [
                "#mediana\n",
                "\n",
                "print(f\"Mediana (Normal): \", np.median(array_normal))\n",
                "\n",
                "print(f\"Mediana (Chi-Square): \",np.median(array_chi_square))"
            ]
        },
        {
            "cell_type": "code",
            "execution_count": 48,
            "id": "f069c3aa",
            "metadata": {},
            "outputs": [
                {
                    "name": "stdout",
                    "output_type": "stream",
                    "text": [
                        "Moda (Normal):  1.718782845057527\n",
                        "Moda (Chi-Square):  4.418584039227768\n"
                    ]
                }
            ],
            "source": [
                "#moda\n",
                "\n",
                "print(f\"Moda (Normal): \",stats.mode(array_normal))\n",
                "\n",
                "print(f\"Moda (Chi-Square): \",stats.mode(array_chi_square))"
            ]
        },
        {
            "cell_type": "code",
            "execution_count": 49,
            "id": "7534438c",
            "metadata": {},
            "outputs": [
                {
                    "name": "stdout",
                    "output_type": "stream",
                    "text": [
                        "Varianza (Normal):  0.7720307437466234\n",
                        "Varianza (Chi-Square):  5.990725113587032\n"
                    ]
                }
            ],
            "source": [
                "#Varianza\n",
                "\n",
                "print(f\"Varianza (Normal): \",np.var(array_normal))\n",
                "\n",
                "print(f\"Varianza (Chi-Square): \", np.var(array_chi_square)) \n"
            ]
        },
        {
            "cell_type": "code",
            "execution_count": 50,
            "id": "e79bf0bd",
            "metadata": {},
            "outputs": [
                {
                    "name": "stdout",
                    "output_type": "stream",
                    "text": [
                        "Desviación Estándar (Normal):  0.8786528004545501\n",
                        "Desviación Estándar (Chi-Square):  2.447595782311089\n"
                    ]
                }
            ],
            "source": [
                "#desviacion Standard\n",
                "\n",
                "print(f\"Desviación Estándar (Normal): \", np.std(array_normal))\n",
                "\n",
                "print(f\"Desviación Estándar (Chi-Square): \", np.std(array_chi_square))"
            ]
        },
        {
            "cell_type": "code",
            "execution_count": 51,
            "id": "5689e522",
            "metadata": {},
            "outputs": [
                {
                    "name": "stdout",
                    "output_type": "stream",
                    "text": [
                        "Rango (Normal):  5.019146991886804\n",
                        "Rango (Chi-Square):  13.777592627235727\n"
                    ]
                }
            ],
            "source": [
                "#rango\n",
                "\n",
                "# Paso 7: Calcular el rango\n",
                "# Rango del array normal\n",
                "rango_normal = np.max(array_normal) - np.min(array_normal)\n",
                "print(f\"Rango (Normal): \", (np.max(array_normal)-np.min(array_normal)))\n",
                "\n",
                "print(f\"Rango (Chi-Square): \", (np.max(array_chi_square)-np.min(array_chi_square)))"
            ]
        },
        {
            "cell_type": "markdown",
            "id": "d2278f70",
            "metadata": {},
            "source": [
                "Medidas de Forma (Shape Measures)"
            ]
        },
        {
            "cell_type": "code",
            "execution_count": 52,
            "id": "eaf38c0f",
            "metadata": {},
            "outputs": [
                {
                    "name": "stdout",
                    "output_type": "stream",
                    "text": [
                        "Asimetría (Normal):  0.026555104107860394\n",
                        "Asimetría (Chi-Square):  1.4447118841195108\n"
                    ]
                }
            ],
            "source": [
                "#asimetrias (skew)\n",
                "from scipy.stats import skew\n",
                "\n",
                "print(f\"Asimetría (Normal): \", skew(array_normal))\n",
                "\n",
                "print(f\"Asimetría (Chi-Square): \", skew(array_chi_square))"
            ]
        },
        {
            "cell_type": "code",
            "execution_count": 53,
            "id": "19524cea",
            "metadata": {},
            "outputs": [
                {
                    "name": "stdout",
                    "output_type": "stream",
                    "text": [
                        "Curtosis (Normal):  0.06837877952910842\n",
                        "Curtosis (Chi-Square):  3.3042764180774427\n"
                    ]
                }
            ],
            "source": [
                "#curtosis (kurtosis)\n",
                "\n",
                "from scipy.stats import kurtosis\n",
                "\n",
                "\n",
                "print(f\"Curtosis (Normal): \", kurtosis(array_normal))\n",
                "\n",
                "print(f\"Curtosis (Chi-Square): \", kurtosis(array_chi_square))"
            ]
        },
        {
            "cell_type": "code",
            "execution_count": 54,
            "id": "af6bd021",
            "metadata": {},
            "outputs": [
                {
                    "data": {
                        "image/png": "[encoded data removed]",
                        "text/plain": [
                            "<Figure size 1000x500 with 1 Axes>"
                        ]
                    },
                    "metadata": {},
                    "output_type": "display_data"
                }
            ],
            "source": [
                "import matplotlib.pyplot as plt\n",
                "\n",
                "\n",
                "# pip install seaborn (--- en la terminal--- )\n",
                "import seaborn as sns\n",
                "\n",
                "# Configurar estilo de los gráficos\n",
                "sns.set(style=\"whitegrid\")\n",
                "\n",
                "# Crear figura y ejes\n",
                "plt.figure(figsize=(10, 5))\n",
                "\n",
                "# Histograma y densidad de kernel para el array normal\n",
                "sns.histplot(array_normal, kde=True, color=\"skyblue\", label=\"Normal\", linewidth=1.5)\n",
                "\n",
                "# Histograma y densidad de kernel para el array chi-cuadrado\n",
                "sns.histplot(array_chi_square, kde=True, color=\"salmon\", label=\"Chi-Square\", linewidth=1.5)\n",
                "\n",
                "# Añadir leyenda y etiquetas\n",
                "plt.legend()\n",
                "plt.xlabel('Valor')\n",
                "plt.ylabel('Frecuencia')\n",
                "\n",
                "# Mostrar el gráfico\n",
                "plt.show()"
            ]
        },
        {
            "cell_type": "markdown",
            "id": "46c70c3d",
            "metadata": {},
            "source": [
                "### Exercise 2\n",
                "\n",
                "Write a Python program to calculate the standard deviation of the following data:\n",
                "\n",
                "```py\n",
                "data = [4, 2, 5, 8, 6]\n",
                "```"
            ]
        },
        {
            "cell_type": "code",
            "execution_count": 55,
            "id": "d1373096",
            "metadata": {},
            "outputs": [
                {
                    "name": "stdout",
                    "output_type": "stream",
                    "text": [
                        "Desviacion Estandar:  2.0\n"
                    ]
                }
            ],
            "source": [
                "#desvio estandar\n",
                "# Datos\n",
                "\n",
                "data = [4, 2, 5, 8, 6]\n",
                "\n",
                "print('Desviacion Estandar: ', np.std(data))\n"
            ]
        },
        {
            "cell_type": "code",
            "execution_count": 56,
            "id": "d590308e",
            "metadata": {},
            "outputs": [
                {
                    "name": "stdout",
                    "output_type": "stream",
                    "text": [
                        "Media: 5.0\n",
                        "Diferencias cuadradas: [1.0, 9.0, 0.0, 9.0, 1.0]\n",
                        "Varianza: 4.0\n",
                        "Desviación Estándar: 2.0\n"
                    ]
                }
            ],
            "source": [
                "#metodo manual\n",
                "\n",
                "import numpy as np\n",
                "\n",
                "# Datos\n",
                "data = [4, 2, 5, 8, 6]\n",
                "\n",
                "# Calcular la media\n",
                "media = np.mean(data)\n",
                "print(f\"Media: {media}\")\n",
                "\n",
                "# Calcular las diferencias al cuadrado respecto a la media\n",
                "diferencias_cuadradas = [(x - media) ** 2 for x in data]\n",
                "print(f\"Diferencias cuadradas: {diferencias_cuadradas}\")\n",
                "\n",
                "# Calcular la varianza (media de las diferencias cuadradas)\n",
                "varianza = np.mean(diferencias_cuadradas)\n",
                "print(f\"Varianza: {varianza}\")\n",
                "\n",
                "# Calcular la desviación estándar (raíz cuadrada de la varianza)\n",
                "desviacion_estandar = np.sqrt(varianza)\n",
                "print(f\"Desviación Estándar: {desviacion_estandar}\")"
            ]
        }
    ],
    "metadata": {
        "interpreter": {
            "hash": "9248718ffe6ce6938b217e69dbcc175ea21f4c6b28a317e96c05334edae734bb"
        },
        "kernelspec": {
            "display_name": "Python 3.9.12 ('ML-BOOTCAMP')",
            "language": "python",
            "name": "python3"
        },
        "language_info": {
            "codemirror_mode": {
                "name": "ipython",
                "version": 3
            },
            "file_extension": ".py",
            "mimetype": "text/x-python",
            "name": "python",
            "nbconvert_exporter": "python",
            "pygments_lexer": "ipython3",
            "version": "3.11.4"
        }
    },
    "nbformat": 4,
    "nbformat_minor": 5
}
